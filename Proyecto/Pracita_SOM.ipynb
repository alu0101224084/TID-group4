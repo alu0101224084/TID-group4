{
 "metadata": {
  "language_info": {
   "codemirror_mode": {
    "name": "ipython",
    "version": 3
   },
   "file_extension": ".py",
   "mimetype": "text/x-python",
   "name": "python",
   "nbconvert_exporter": "python",
   "pygments_lexer": "ipython3",
   "version": 3
  },
  "orig_nbformat": 2
 },
 "nbformat": 4,
 "nbformat_minor": 2,
 "cells": [
  {
   "cell_type": "code",
   "execution_count": null,
   "metadata": {},
   "outputs": [],
   "source": [
    "from __future__ import division\n",
    "import pandas as pd\n",
    "import numpy as np\n",
    "import matplotlib.pyplot as plt\n",
    "import matplotlib.gridspec as gridspec\n",
    "%matplotlib inline\n",
    "dataset = pd.read_csv(\"creditcard.csv\")\n",
    "print(dataset)"
   ]
  },
  {
   "cell_type": "code",
   "execution_count": null,
   "metadata": {},
   "outputs": [],
   "source": [
    "from sklearn import datasets\n",
    "from sklearn.model_selection import train_test_split\n",
    "from sklearn.linear_model import Perceptron\n",
    "from sklearn.metrics import accuracy_score, classification_report, confusion_matrix\n",
    "from sklearn.metrics import roc_curve\n",
    "from sklearn.metrics import roc_auc_score"
   ]
  },
  {
   "cell_type": "code",
   "execution_count": null,
   "metadata": {},
   "outputs": [],
   "source": [
    "from neupy import algorithms, utils, init\n",
    "from datetime import datetime"
   ]
  },
  {
   "cell_type": "code",
   "execution_count": null,
   "metadata": {},
   "outputs": [],
   "source": [
    "import seaborn as sn\n",
    "ax=sn.countplot(x='Class',data=dataset);\n",
    "ax.set_yscale('log')"
   ]
  },
  {
   "cell_type": "code",
   "execution_count": null,
   "metadata": {},
   "outputs": [],
   "source": [
    "import imblearn\n",
    "from imblearn.under_sampling import RandomUnderSampler \n",
    "\n",
    "undersample = RandomUnderSampler(sampling_strategy=0.5)\n",
    "\n",
    "cols = dataset.columns.tolist()\n",
    "cols = [c for c in cols if c not in [\"Class\"]]\n",
    "target = \"Class\"\n",
    "\n",
    "#define X and Y\n",
    "X = dataset[cols]\n",
    "Y = dataset[target]\n",
    "\n",
    "#undersample\n",
    "X_under, Y_under = undersample.fit_resample(X, Y)\n",
    "test = pd.DataFrame(Y_under, columns = ['Class'])\n",
    "\n",
    "fig, axs = plt.subplots(ncols=2, figsize=(13,4.5))\n",
    "sn.countplot(x=\"Class\", data=dataset, ax=axs[0])\n",
    "sn.countplot(x=\"Class\", data=test, ax=axs[1])\n",
    "\n",
    "fig.suptitle(\"Class repartition before and after undersampling\")\n",
    "a1=fig.axes[0]\n",
    "a1.set_title(\"Before\")\n",
    "a2=fig.axes[1]\n",
    "a2.set_title(\"After\")\n",
    "\n",
    "dataset = pd.concat([X_under, Y_under], axis=1)"
   ]
  },
  {
   "cell_type": "code",
   "execution_count": null,
   "metadata": {},
   "outputs": [],
   "source": [
    "from pandas import DataFrame\n",
    "\n",
    "# Data preprocessing\n",
    "train_size = 0.75\n",
    "test_size = 1 - train_size\n",
    "train, test = train_test_split(dataset, test_size = test_size)\n",
    "patterns_input = train.iloc[:,1:30].values[:]\n",
    "input_test = test.iloc[:,1:30].values[:]\n",
    "\n",
    "patterns_target = train.iloc[:,-1].values[:]\n",
    "target_test = test['Class'].values[:]\n",
    "\n",
    "input_train, input_valid, target_train, target_valid = train_test_split(\n",
    "    patterns_input, patterns_target, train_size=train_size, test_size=test_size,\n",
    "    random_state=0, shuffle=True)\n",
    "\n",
    "print(input_train.shape, target_train.shape)\n",
    "print(input_valid.shape, target_valid.shape)"
   ]
  }
 ]
}